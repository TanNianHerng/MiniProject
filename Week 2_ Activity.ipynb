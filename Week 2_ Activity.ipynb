{
 "cells": [
  {
   "cell_type": "markdown",
   "id": "1ee22bd3",
   "metadata": {},
   "source": [
    "# Exercise 3\n"
   ]
  },
  {
   "cell_type": "code",
   "execution_count": 3,
   "id": "c1011cee",
   "metadata": {},
   "outputs": [],
   "source": [
    "import numpy as np"
   ]
  },
  {
   "cell_type": "code",
   "execution_count": 4,
   "id": "3f04f5c1",
   "metadata": {},
   "outputs": [
    {
     "name": "stdout",
     "output_type": "stream",
     "text": [
      "[0 1 2 3 4 5 6 7 8 9]\n",
      "[ 0  1  2  3 25 25 25  7  8  9]\n",
      "[-1 25 25]\n",
      "[ 0  1  2  3 -1 25 25  7  8  9]\n"
     ]
    }
   ],
   "source": [
    "my_arr = np.arange(10)\n",
    "print(my_arr)\n",
    "my_arr[4:7]=25\n",
    "print(my_arr)\n",
    "arr_slice=my_arr[4:7]\n",
    "#Change the first element of arr_slice to -1\n",
    "arr_slice[0] = -1\n",
    "\n",
    "print(arr_slice)\n",
    "print(my_arr)"
   ]
  },
  {
   "cell_type": "markdown",
   "id": "99ff1a20",
   "metadata": {},
   "source": [
    "# What do you notice? "
   ]
  },
  {
   "cell_type": "markdown",
   "id": "4e2a40f9",
   "metadata": {},
   "source": [
    "1)np.arrange(10) will generates an array with values from 0 to 9.\n",
    "so the initial array printed will be [0 1 2 3 4 5 6 7 8 9]\n",
    "2)Element 4,5,6 of my_arr will be modified and be assigned them with the value 25.\n",
    "this will print a results of [0 1 2 3 25 25 25 7 8 9]\n",
    "3)my_arr containing elements 4,5 and 6 will be assigned to the variable arr_slice. Thus the first element of arr_slice is changed to -1\n",
    "This causes arr_slice to be printed resulting in [-1 25 25]\n",
    "4)my_arr will be printed again and modification will be made to arr_slice affecting the my_arr giving the output of [0 1 2 3 -1 25 25 7 8 9]"
   ]
  },
  {
   "cell_type": "markdown",
   "id": "46d58a97",
   "metadata": {},
   "source": [
    "# Propose a way to reassign arr_slice with new value without modifying my_arr.# "
   ]
  },
  {
   "cell_type": "code",
   "execution_count": 6,
   "id": "bf9f8a23",
   "metadata": {},
   "outputs": [
    {
     "name": "stdout",
     "output_type": "stream",
     "text": [
      "[0 1 2 3 4 5 6 7 8 9]\n",
      "[ 0  1  2  3 25 25 25  7  8  9]\n",
      "[-1 25 25]\n",
      "[ 0  1  2  3 25 25 25  7  8  9]\n"
     ]
    }
   ],
   "source": [
    "import numpy as np \n",
    "\n",
    "my_arr = np.arange(10)\n",
    "print(my_arr)\n",
    "\n",
    "my_arr[4:7] = 25\n",
    "print(my_arr)\n",
    "\n",
    "arr_slice = my_arr[4:7].copy()\n",
    "arr_slice[0] = -1\n",
    "print(arr_slice)\n",
    "\n",
    "print(my_arr)"
   ]
  },
  {
   "cell_type": "markdown",
   "id": "f277c190",
   "metadata": {},
   "source": [
    "\n",
    "# Exercise 4"
   ]
  },
  {
   "cell_type": "markdown",
   "id": "3caf6c8d",
   "metadata": {},
   "source": [
    "Create an image as shown as the following with the help of Numpy and matplotlib modules. You canarbitrarily set the dimension of the image and white circular spot at the middle."
   ]
  },
  {
   "cell_type": "code",
   "execution_count": 10,
   "id": "a0229c22",
   "metadata": {},
   "outputs": [
    {
     "data": {
      "image/png": "[encoded data removed]",
      "text/plain": [
       "<Figure size 432x288 with 1 Axes>"
      ]
     },
     "metadata": {
      "needs_background": "light"
     },
     "output_type": "display_data"
    }
   ],
   "source": [
    "import numpy as np\n",
    "import matplotlib.pyplot as plt\n",
    "\n",
    "# Define image dimensions\n",
    "width, height = 100, 100\n",
    "\n",
    "# Create a blank image with all black pixels\n",
    "image = np.zeros((height, width, 3), dtype=np.uint8)\n",
    "\n",
    "# Calculate the center coordinates\n",
    "center_x = width // 2\n",
    "center_y = height // 2\n",
    "\n",
    "# Calculate the radius of the circular spot\n",
    "radius = min(center_x, center_y) // 2\n",
    "\n",
    "# Set the circular spot to white\n",
    "y, x = np.ogrid[:height, :width]\n",
    "mask = (x - center_x) ** 2 + (y - center_y) ** 2 <= radius ** 2\n",
    "image[mask] = [255, 255, 255]\n",
    "\n",
    "# Display the image\n",
    "plt.imshow(image)\n",
    "plt.axis('off')\n",
    "plt.show()\n"
   ]
  }
 ],
 "metadata": {
  "kernelspec": {
   "display_name": "Python 3 (ipykernel)",
   "language": "python",
   "name": "python3"
  },
  "language_info": {
   "codemirror_mode": {
    "name": "ipython",
    "version": 3
   },
   "file_extension": ".py",
   "mimetype": "text/x-python",
   "name": "python",
   "nbconvert_exporter": "python",
   "pygments_lexer": "ipython3",
   "version": "3.9.12"
  }
 },
 "nbformat": 4,
 "nbformat_minor": 5
}
