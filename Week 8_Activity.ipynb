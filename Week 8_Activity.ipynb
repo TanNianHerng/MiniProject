{
 "cells": [
  {
   "cell_type": "markdown",
   "id": "9817af2a",
   "metadata": {},
   "source": [
    "# Weekly Activity\n"
   ]
  },
  {
   "cell_type": "markdown",
   "id": "da5a1a88",
   "metadata": {},
   "source": [
    "# Q1"
   ]
  },
  {
   "cell_type": "code",
   "execution_count": null,
   "id": "af5aec51",
   "metadata": {},
   "outputs": [],
   "source": [
    "import sys\n",
    "assert sys.version_info >= (3, 7)\n",
    "\n",
    "from matplotlib import pyplot as plt\n",
    "import numpy as np\n",
    "import cv2 as cv\n",
    "from util_func import *\n",
    "\n"
   ]
  },
  {
   "cell_type": "code",
   "execution_count": null,
   "id": "9ebf0268",
   "metadata": {},
   "outputs": [],
   "source": [
    "img = cv.imread(\"images/pineapple.jfif\")\n",
    "gray =  cv.cvtColor(img, cv.COLOR_BGR2GRAY)\n",
    "# Apply Sobel edge detector\n",
    "sobel_x = cv.Sobel(gray, cv.CV_64F, 1, 0, ksize=3)\n",
    "sobel_y = cv.Sobel(gray, cv.CV_64F, 0, 1, ksize=3)\n",
    "sobel_edges = np.sqrt(sobel_x**2 + sobel_y**2)\n",
    "\n",
    "# Apply Laplacian edge detector\n",
    "laplacian_edges = cv.Laplacian(gray, cv.CV_64F, ksize=3)\n",
    "\n",
    "# Apply Prewitt edge detector\n",
    "prewitt_x = cv.Sobel(gray, cv.CV_64F, 1, 0, ksize=3)\n",
    "prewitt_y = cv.Sobel(gray, cv.CV_64F, 0, 1, ksize=3)\n",
    "prewitt_edges = np.sqrt(prewitt_x**2 + prewitt_y**2)\n",
    "\n",
    "# Apply Scharr edge detector\n",
    "scharr_x = cv.Scharr(gray, cv.CV_64F, 1, 0)\n",
    "scharr_y = cv.Scharr(gray, cv.CV_64F, 0, 1)\n",
    "scharr_edges = np.sqrt(scharr_x**2 + scharr_y**2)\n",
    "\n",
    "# Apply Canny edge detector\n",
    "canny_edges = cv.Canny(gray, threshold1=100, threshold2=200, apertureSize=3)\n",
    "\n",
    "# Display the results\n",
    "plt.figure(figsize=(15, 10))\n",
    "\n",
    "plt.subplot(2, 3, 1), plt.imshow(sobel_edges, cmap='gray')\n",
    "plt.title('Sobel Edges'), plt.axis('off')\n",
    "\n",
    "plt.subplot(2, 3, 2), plt.imshow(laplacian_edges, cmap='gray')\n",
    "plt.title('Laplacian Edges'), plt.axis('off')\n",
    "\n",
    "plt.subplot(2, 3, 3), plt.imshow(prewitt_edges, cmap='gray')\n",
    "plt.title('Prewitt Edges'), plt.axis('off')\n",
    "\n",
    "plt.subplot(2, 3, 4), plt.imshow(scharr_edges, cmap='gray')\n",
    "plt.title('Scharr Edges'), plt.axis('off')\n",
    "\n",
    "plt.subplot(2, 3, 5), plt.imshow(canny_edges, cmap='gray')\n",
    "plt.title('Canny Edges'), plt.axis('off')\n",
    "\n",
    "plt.tight_layout()\n",
    "plt.show()"
   ]
  },
  {
   "cell_type": "markdown",
   "id": "a9bed815",
   "metadata": {},
   "source": [
    "Sobel Edges: Have a clearer outline of the pineappple and its features\n",
    "\n",
    "Laplacian Edges: Have more noise but highlights all edges\n",
    "\n",
    "Prewitt Edges: Able to capture object shape effective, similar to \n",
    "Sobel\n",
    "\n",
    "Scharr Edges: The edges appeared to be sharper and clearer.\n",
    "\n",
    "Canny Edges: All the details of the image is highlighted"
   ]
  },
  {
   "cell_type": "markdown",
   "id": "f53292a7",
   "metadata": {},
   "source": [
    "# Q2"
   ]
  },
  {
   "cell_type": "code",
   "execution_count": null,
   "id": "3cc4960e",
   "metadata": {},
   "outputs": [],
   "source": [
    "img = cv.imread(\"images/electronic.jfif\")\n",
    "\n",
    "# resize -> grayscale -> bilateral -> Canny -> findContour -> Contour features\n",
    "# sort the contour with respect to area in descending order\n",
    "factor = 300 / img.shape[1]\n",
    "img = cv.resize(img, None, fx = factor, fy = factor)\n",
    "gray = cv.cvtColor(img, cv.COLOR_BGR2GRAY)\n",
    "\n",
    "blur = cv.bilateralFilter(gray, 7, 19, 13)\n",
    "_, thresholded = cv.threshold(blur, 220, 255, cv.THRESH_BINARY)\n",
    "\n",
    "show_img(\"edges\", edge)\n",
    "\n",
    "contours, _ = cv.findContours(thresholded, cv.RETR_TREE, cv.CHAIN_APPROX_SIMPLE)\n",
    "\n",
    "img_copy = img.copy()\n",
    "\n",
    "# rectangular contour\n",
    "for c in contours:\n",
    "    x, y, w, h = cv.boundingRect(c)\n",
    "    if w > 30 and h > 30: \n",
    "        cv.rectangle(img_copy, (x, y), (x + w, y + h), (0, 255, 0), 2)  # D\n",
    "\n",
    "show_img(\"contour\", img_copy)"
   ]
  },
  {
   "cell_type": "markdown",
   "id": "40939d97",
   "metadata": {},
   "source": [
    "# Q3"
   ]
  },
  {
   "cell_type": "code",
   "execution_count": null,
   "id": "e1a4e6b6",
   "metadata": {},
   "outputs": [],
   "source": [
    "img = cv.imread(\"images/clock.jpg\")\n",
    "\n",
    "# resize -> grayscale -> bilateral -> Canny -> findContour -> Contour features\n",
    "# start the contour with respect to area in descending order\n",
    "factor = 300 / img.shape[1]\n",
    "img = cv.resize(img, None, fx=factor, fy=factor)\n",
    "gray = cv.cvtColor(img, cv.COLOR_BGR2GRAY)\n",
    "\n",
    "blur = cv.bilateralFilter(gray, 7, 19, 13)\n",
    "edge = canny_auto(blur, method=\"triangle\")\n",
    "\n",
    "contours, _ = cv.findContours(edge, cv.RETR_TREE, cv.CHAIN_APPROX_SIMPLE)\n",
    "\n",
    "cnts = sorted(contours, key=cv.contourArea, reverse=True)[:5]\n",
    "clock = None\n",
    "img_copy = img.copy()\n",
    "# rectangular contour\n",
    "for c in cnts:\n",
    "    peri = cv.arcLength(c, True)\n",
    "    approx = cv.approxPolyDP(c, 0.1*peri, True)\n",
    "    \n",
    "    if len(approx) == 4:\n",
    "        clock = c\n",
    "        break\n",
    "\n",
    "cv.drawContours(img_copy, [clock], -1, (0,255,0), 2)\n",
    "show_img(\"contour\", img_copy)"
   ]
  }
 ],
 "metadata": {
  "kernelspec": {
   "display_name": "Python 3 (ipykernel)",
   "language": "python",
   "name": "python3"
  },
  "language_info": {
   "codemirror_mode": {
    "name": "ipython",
    "version": 3
   },
   "file_extension": ".py",
   "mimetype": "text/x-python",
   "name": "python",
   "nbconvert_exporter": "python",
   "pygments_lexer": "ipython3",
   "version": "3.9.12"
  }
 },
 "nbformat": 4,
 "nbformat_minor": 5
}
